{
 "cells": [
  {
   "cell_type": "markdown",
   "metadata": {},
   "source": [
    "Alcune idee da memorizzare: \n",
    "1) Per fare modelli diversi aggiungere symmetry breaking e implied constraints (cioè che ogni corriere deve avere almeno un pacco -> per la disuguagliazna triangolare questo mi pone già nell'escludere soluzioni non ottimali)\n",
    "2) Sicuramente capire quali possono essere i bound della funzione obbiettivo per ridurre lo spazio di ricerca\n",
    "3) Capire come gestire le istanze più grandi...\n",
    "4) Capire o meno questioni eursitiche (al di là del modello)"
   ]
  },
  {
   "cell_type": "markdown",
   "metadata": {},
   "source": [
    "Worflow for MIP\n",
    "- Get three different models of the problem \n",
    "- Evalauet if doing a sort of presolving\n",
    "- Doing a kind of decomposition -> in order to reduce for bigger problem\n",
    "- Testing for various solver with different params\n",
    "- Evalute the use of the heursitics...\n"
   ]
  },
  {
   "cell_type": "markdown",
   "metadata": {},
   "source": [
    "Al momento:\n",
    "- File di conversione di dati e solve \n",
    "- modello iniziale\n",
    "\n",
    "Da fare:\n",
    "- verificare file di conversione se è compatibile col modello\n",
    "- verificare modello\n",
    "\n",
    "- fare altri modelli con implied constraint e symmetry breaking + divisione eventualmente\n",
    "- capire come testarlo per solver con parametri differnti"
   ]
  }
 ],
 "metadata": {
  "language_info": {
   "name": "python"
  }
 },
 "nbformat": 4,
 "nbformat_minor": 2
}

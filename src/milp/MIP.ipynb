{
 "cells": [
  {
   "cell_type": "markdown",
   "metadata": {},
   "source": [
    "Alcune idee da memorizzare: \n",
    "1) Per fare modelli diversi aggiungere symmetry breaking e implied constraints (cioè che ogni corriere deve avere almeno un pacco -> per la disuguagliazna triangolare questo mi pone già nell'escludere soluzioni non ottimali)\n",
    "2) Sicuramente capire quali possono essere i bound della funzione obbiettivo per ridurre lo spazio di ricerca\n",
    "3) Capire come gestire le istanze più grandi...\n",
    "4) Capire o meno questioni eursitiche (al di là del modello)"
   ]
  },
  {
   "cell_type": "markdown",
   "metadata": {},
   "source": [
    "Worflow for MIP\n",
    "- Get three different models of the problem \n",
    "- Evalauet if doing a sort of presolving\n",
    "- Doing a kind of decomposition -> in order to reduce for bigger problem\n",
    "- Testing for various solver with different params\n",
    "- Evalute the use of the heursitics...\n"
   ]
  },
  {
   "cell_type": "markdown",
   "metadata": {},
   "source": [
    "Da fare:\n",
    "- Rendere il file solve.py generalizzabile, capire quali parametri salvare e come. Modificare la solution che mi stampa in modo tale che pacchi siano ordinati\n",
    "- Migliorare la questione di subtur elimination + sym breaking -> anche perchè modello peggiore rispetto all implied constraint (sul subtour elimination magari vedere un po' di letteratura)\n",
    "- Capire perchè con alcuni solver mi dà una soluzione giusta con altri (cbc in particolar modo) mi dà si la funzione obbiettivo ma soluzione senza senso\n",
    "- Capire come creare equivalenza con modelli degli altri\n",
    "- Testarlo per un set di solver specifici -> capire meglio come funzionano vari solver di MILP\n",
    "\n",
    "- Per le istanze più grandi o tentare un warm-start o capire come settare i solver per attivare alcune funzionalità tipo la decomposizione di Bender...\n",
    "\n",
    "Ovviamente dalla 10 in avanti non mi va...(capire come gestire istanze più grandi...) (e se è necessario pensarci)\n",
    "\n",
    "Per ora refernce libro AMPL! \n"
   ]
  }
 ],
 "metadata": {
  "language_info": {
   "name": "python"
  }
 },
 "nbformat": 4,
 "nbformat_minor": 2
}
